{
  "nbformat": 4,
  "nbformat_minor": 0,
  "metadata": {
    "colab": {
      "name": "lab7.ipynb",
      "provenance": [],
      "authorship_tag": "ABX9TyN0HeBkdzpWVhqWq+w2aYt1",
      "include_colab_link": true
    },
    "kernelspec": {
      "name": "python3",
      "display_name": "Python 3"
    }
  },
  "cells": [
    {
      "cell_type": "markdown",
      "metadata": {
        "id": "view-in-github",
        "colab_type": "text"
      },
      "source": [
        "<a href=\"https://colab.research.google.com/github/aksesss/PIS/blob/master/labs/lab7.ipynb\" target=\"_parent\"><img src=\"https://colab.research.google.com/assets/colab-badge.svg\" alt=\"Open In Colab\"/></a>"
      ]
    },
    {
      "cell_type": "code",
      "metadata": {
        "id": "HPhPvQN7wlXS",
        "colab_type": "code",
        "colab": {}
      },
      "source": [
        "#!pip install tensorflow-gpu==1.15.0"
      ],
      "execution_count": 0,
      "outputs": []
    },
    {
      "cell_type": "code",
      "metadata": {
        "id": "Uut4zZDMwmgk",
        "colab_type": "code",
        "outputId": "3634ed8e-9e54-4c8c-d328-44c9dfb8c68c",
        "colab": {
          "base_uri": "https://localhost:8080/",
          "height": 90
        }
      },
      "source": [
        "import numpy as np\n",
        "import tensorflow as tf\n",
        "from collections import Counter\n",
        "from sklearn.datasets import fetch_20newsgroups\n",
        "import tensorflow.compat.v1 as tf\n",
        "tf.disable_v2_behavior() "
      ],
      "execution_count": 2,
      "outputs": [
        {
          "output_type": "stream",
          "text": [
            "WARNING:tensorflow:From /usr/local/lib/python3.6/dist-packages/tensorflow_core/python/compat/v2_compat.py:68: disable_resource_variables (from tensorflow.python.ops.variable_scope) is deprecated and will be removed in a future version.\n",
            "Instructions for updating:\n",
            "non-resource variables are not supported in the long term\n"
          ],
          "name": "stdout"
        }
      ]
    },
    {
      "cell_type": "code",
      "metadata": {
        "id": "7MIJZoSExSXG",
        "colab_type": "code",
        "colab": {}
      },
      "source": [
        "categories = ['comp.os.ms-windows.misc', 'talk.politics.misc', 'talk.politics.mideast']\n",
        "newsgroups_train = fetch_20newsgroups(subset='train', categories=categories)\n",
        "newsgroups_test = fetch_20newsgroups(subset='test', categories=categories)\n",
        "\n",
        "def text2vocab(data_train, data_test):\n",
        "  vocab = Counter()\n",
        "  for text in data_train.data:\n",
        "    for word in text.split(' '):\n",
        "      vocab[word.lower()] += 1\n",
        "  for text in data_test.data:\n",
        "    for word in text.split(' '):\n",
        "      vocab[word.lower()] += 1\n",
        "  return vocab\n",
        "\n",
        "def get_word_2_index(vocab):\n",
        "  word2index = {}\n",
        "  for i, word in enumerate(vocab):\n",
        "    word2index[word.lower()] = i\n",
        "  return word2index\n",
        "\n",
        "vocab = text2vocab(newsgroups_train, newsgroups_test)\n",
        "total_words = len(vocab)\n",
        "word2index = get_word_2_index(vocab)\n"
      ],
      "execution_count": 0,
      "outputs": []
    },
    {
      "cell_type": "code",
      "metadata": {
        "id": "Thvb3RZS1bRE",
        "colab_type": "code",
        "colab": {}
      },
      "source": [
        "def get_batch(df, i, batch_size):\n",
        "  batches = []\n",
        "  results = []\n",
        "  texts = df.data[i * batch_size:i * batch_size + batch_size]\n",
        "  categories = df.target[i * batch_size:i * batch_size + batch_size]\n",
        "  for text in texts:\n",
        "    layer = np.zeros(total_words, dtype=float)\n",
        "    for word in text.split(' '):\n",
        "      layer[word2index[word.lower()]] += 1\n",
        "    batches.append(layer)\n",
        "\n",
        "  for category in categories:\n",
        "    y = np.zeros((4), dtype=float)\n",
        "    if category == 0:\n",
        "      y[0] = 1.\n",
        "    elif category == 1:\n",
        "      y[1] = 1.\n",
        "    elif category == 2:\n",
        "      y[2] = 1.\n",
        "    else:\n",
        "      y[3] = 1.\n",
        "  results.append(y)\n",
        "  \n",
        "  return np.array(batches), np.array(results)"
      ],
      "execution_count": 0,
      "outputs": []
    },
    {
      "cell_type": "code",
      "metadata": {
        "id": "Vu0DTo9S2oHV",
        "colab_type": "code",
        "colab": {}
      },
      "source": [
        "# Параметры обучения\n",
        "learning_rate = 0.01\n",
        "training_epochs = 10\n",
        "batch_size = 150\n",
        "display_step = 1\n",
        "\n",
        "# Network Parameters\n",
        "n_hidden_1 = 2# скрытый слой\n",
        "n_hidden_2 = 10 # скрытый слой\n",
        "n_hidden_3 = 2 # скрытый слой\n",
        "\n",
        "n_input = total_words # количество уникальных слов в наших текстах\n",
        "n_classes = 4 # 4 класса\n",
        "\n",
        "input_tensor = tf.placeholder(tf.float32,[None, n_input],name=\"input\")\n",
        "output_tensor = tf.placeholder(tf.float32,[None, n_classes],name=\"output\")\n"
      ],
      "execution_count": 0,
      "outputs": []
    },
    {
      "cell_type": "code",
      "metadata": {
        "id": "k_dmwzFA2orK",
        "colab_type": "code",
        "outputId": "636e4686-d8c1-4ecb-b0b1-39630ead6f36",
        "colab": {
          "base_uri": "https://localhost:8080/",
          "height": 159
        }
      },
      "source": [
        "def multilayer_perceptron(input_tensor, weights, biases):\n",
        "  # скрытый слой\n",
        "  layer_1_multiplication = tf.matmul(input_tensor, weights['h1'])\n",
        "  layer_1_addition = tf.add(layer_1_multiplication, biases['b1'])\n",
        "  layer_1 = tf.nn.relu(layer_1_addition)\n",
        "\n",
        "  # скрытый слой\n",
        "  layer_2_multiplication = tf.matmul(layer_1, weights['h2'])\n",
        "  layer_2_addition = tf.add(layer_2_multiplication, biases['b2'])\n",
        "  layer_2 = tf.nn.relu(layer_2_addition)\n",
        "  \n",
        "  # скрытый слой\n",
        "  layer_3_multiplication = tf.matmul(layer_2, weights['h3'])\n",
        "  layer_3_addition = tf.add(layer_3_multiplication, biases['b3'])\n",
        "  layer_3 = tf.nn.relu(layer_3_addition)\n",
        "\n",
        "  # выходной слой\n",
        "  out_layer_multiplication = tf.matmul(layer_3, weights['out'])\n",
        "  out_layer_addition = out_layer_multiplication + biases['out']\n",
        "  \n",
        "  return out_layer_addition\n",
        "\n",
        "# инициализация параметров сети\n",
        "weights = {\n",
        "  'h1': tf.Variable(tf.random_normal([n_input, n_hidden_1])),\n",
        "  'h2': tf.Variable(tf.random_normal([n_hidden_1, n_hidden_2])),\n",
        "  'h3': tf.Variable(tf.random_normal([n_hidden_2, n_hidden_3])),\n",
        "  'out': tf.Variable(tf.random_normal([n_hidden_3, n_classes]))\n",
        "}\n",
        "biases = {\n",
        "  'b1': tf.Variable(tf.random_normal([n_hidden_1])),\n",
        "  'b2': tf.Variable(tf.random_normal([n_hidden_2])),\n",
        "  'b3': tf.Variable(tf.random_normal([n_hidden_3])),\n",
        "  'out': tf.Variable(tf.random_normal([n_classes]))\n",
        "}\n",
        "# создание модели\n",
        "prediction = multilayer_perceptron(input_tensor, weights, biases)\n",
        "\n",
        "# Фукнция потерь\n",
        "loss = tf.reduce_mean(tf.nn.softmax_cross_entropy_with_logits(logits=prediction, labels=output_tensor))\n",
        "optimizer = tf.train.AdamOptimizer(learning_rate=learning_rate).minimize(loss)\n",
        "\n",
        "init = tf.global_variables_initializer()\n",
        "\n"
      ],
      "execution_count": 6,
      "outputs": [
        {
          "output_type": "stream",
          "text": [
            "WARNING:tensorflow:From <ipython-input-6-4f0977581113>:40: softmax_cross_entropy_with_logits (from tensorflow.python.ops.nn_ops) is deprecated and will be removed in a future version.\n",
            "Instructions for updating:\n",
            "\n",
            "Future major versions of TensorFlow will allow gradients to flow\n",
            "into the labels input on backprop by default.\n",
            "\n",
            "See `tf.nn.softmax_cross_entropy_with_logits_v2`.\n",
            "\n"
          ],
          "name": "stdout"
        }
      ]
    },
    {
      "cell_type": "code",
      "metadata": {
        "id": "xUsSx40p2q9k",
        "colab_type": "code",
        "colab": {
          "base_uri": "https://localhost:8080/",
          "height": 586
        },
        "outputId": "8d7a6272-dc04-4ea9-ac29-39682c79ed10"
      },
      "source": [
        "import time\n",
        "# Запуск\n",
        "with tf.Session() as sess:\n",
        "  sess.run(init)\n",
        "  start_time = time.time()\n",
        "\n",
        "  total_test_data = len(newsgroups_test.target)\n",
        "  total_train_data = len(newsgroups_train.target)\n",
        "\n",
        "  full_x_test,full_y_test = get_batch(newsgroups_test,0,total_test_data)\n",
        "  full_x_train,full_y_train = get_batch(newsgroups_train,0,total_train_data)\n",
        "\n",
        "  # Цикл обучения\n",
        "  for epoch in range(training_epochs):\n",
        "    avg_cost = 0.\n",
        "    total_batch = int(len(newsgroups_train.data)/batch_size)\n",
        "    # Проход по всем батчам\n",
        "    for i in range(total_batch):\n",
        "      batch_x,batch_y = get_batch(newsgroups_train,i,batch_size)\n",
        "      c,_ = sess.run([loss,optimizer], feed_dict={input_tensor: batch_x,output_tensor:batch_y})\n",
        "      # Вычисляем среднее фукнции потерь\n",
        "      avg_cost += c / total_batch\n",
        "    print(\"Эпоха:\", '%04d' % (epoch+1), 'Время:%07d'%(time.time() - start_time), \"loss=\", \"{:.16f}\".format(avg_cost))\n",
        "\n",
        "    correct_prediction = tf.equal(tf.argmax(prediction, 1), tf.argmax(output_tensor, 1))\n",
        "    # Расчет точности\n",
        "    accuracy = tf.reduce_mean(tf.cast(correct_prediction, \"float\"))\n",
        "    \n",
        "    \n",
        "    #print(\"Точность треин:\", accuracy.eval({input_tensor: batch_x, output_tensor: batch_y}))\n",
        "    print(\"\\tТочность тест :\", accuracy.eval({input_tensor: full_x_test, output_tensor: full_y_test}))\n",
        "    print(\"\\tТочность треин:\", accuracy.eval({input_tensor: full_x_train, output_tensor: full_y_test}))\n",
        "\n",
        "  print(\"Обучение завершено!\")\n",
        "\n",
        "# Тестирование\n",
        "  correct_prediction = tf.equal(tf.argmax(prediction, 1), tf.argmax(output_tensor, 1))\n",
        "  # Расчет точности\n",
        "  accuracy = tf.reduce_mean(tf.cast(correct_prediction, \"float\"))\n",
        "  total_test_data = len(newsgroups_test.target)\n",
        "  batch_x_test,batch_y_test = get_batch(newsgroups_test,0,total_test_data)\n",
        "  #print(\"Точность треин:\", accuracy.eval({input_tensor: batch_x, output_tensor: batch_y}))\n",
        "  print(\"Точность тест :\", accuracy.eval({input_tensor: batch_x_test, output_tensor: batch_y_test}))"
      ],
      "execution_count": 7,
      "outputs": [
        {
          "output_type": "stream",
          "text": [
            "Эпоха: 0001 Время:0000013 loss= 2.2812974810600282\n",
            "\tТочность тест : 0.9685185\n",
            "\tТочность треин: 0.9512346\n",
            "Эпоха: 0002 Время:0000017 loss= 1.9397820472717284\n",
            "\tТочность тест : 0.97962964\n",
            "\tТочность треин: 0.9617284\n",
            "Эпоха: 0003 Время:0000021 loss= 1.8329634666442873\n",
            "\tТочность тест : 0.9787037\n",
            "\tТочность треин: 0.9537037\n",
            "Эпоха: 0004 Время:0000025 loss= 1.7523664414882660\n",
            "\tТочность тест : 0.9759259\n",
            "\tТочность треин: 0.95308644\n",
            "Эпоха: 0005 Время:0000029 loss= 1.6814268022775647\n",
            "\tТочность тест : 0.9759259\n",
            "\tТочность треин: 0.95\n",
            "Эпоха: 0006 Время:0000033 loss= 1.6166168749332428\n",
            "\tТочность тест : 0.97407407\n",
            "\tТочность треин: 0.94876546\n",
            "Эпоха: 0007 Время:0000037 loss= 1.5579245269298552\n",
            "\tТочность тест : 0.97407407\n",
            "\tТочность треин: 0.9506173\n",
            "Эпоха: 0008 Время:0000042 loss= 1.5041313827037812\n",
            "\tТочность тест : 0.9611111\n",
            "\tТочность треин: 0.94135803\n",
            "Эпоха: 0009 Время:0000047 loss= 1.4561185896396638\n",
            "\tТочность тест : 0.9638889\n",
            "\tТочность треин: 0.9419753\n",
            "Эпоха: 0010 Время:0000052 loss= 1.4111862778663633\n",
            "\tТочность тест : 0.9638889\n",
            "\tТочность треин: 0.9432099\n",
            "Обучение завершено!\n",
            "Точность тест : 0.9638889\n"
          ],
          "name": "stdout"
        }
      ]
    },
    {
      "cell_type": "code",
      "metadata": {
        "id": "BZ4S-HPT9TvD",
        "colab_type": "code",
        "colab": {}
      },
      "source": [
        ""
      ],
      "execution_count": 0,
      "outputs": []
    }
  ]
}