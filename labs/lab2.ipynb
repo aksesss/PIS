{
  "nbformat": 4,
  "nbformat_minor": 0,
  "metadata": {
    "colab": {
      "name": "lab2.ipynb",
      "provenance": [],
      "collapsed_sections": [],
      "authorship_tag": "ABX9TyNtK/yph4mjGt9lRVpzXpkE",
      "include_colab_link": true
    },
    "kernelspec": {
      "name": "python3",
      "display_name": "Python 3"
    }
  },
  "cells": [
    {
      "cell_type": "markdown",
      "metadata": {
        "id": "view-in-github",
        "colab_type": "text"
      },
      "source": [
        "<a href=\"https://colab.research.google.com/github/aksesss/PIS/blob/master/labs/lab2.ipynb\" target=\"_parent\"><img src=\"https://colab.research.google.com/assets/colab-badge.svg\" alt=\"Open In Colab\"/></a>"
      ]
    },
    {
      "cell_type": "markdown",
      "metadata": {
        "id": "OuGuBNr6TaGX",
        "colab_type": "text"
      },
      "source": [
        "Lab2"
      ]
    },
    {
      "cell_type": "markdown",
      "metadata": {
        "id": "H3VutJ_FVkp-",
        "colab_type": "text"
      },
      "source": [
        "pip install pyreadline"
      ]
    },
    {
      "cell_type": "code",
      "metadata": {
        "id": "3IRxNBXAVy_v",
        "colab_type": "code",
        "colab": {
          "base_uri": "https://localhost:8080/",
          "height": 34
        },
        "outputId": "3ff2acba-9834-413a-cf22-ad8f93cf7002"
      },
      "source": [
        "%tensorflow_version 1.x\n",
        "import tensorflow as tf\n",
        "tf.__version__\n",
        "from tensorflow.examples.tutorials.mnist import input_data\n",
        "DATA_DIR = 'tmp/data'\n",
        "NUM_STEPS = 1000\n",
        "MINIBATCH_SIZE = 100\n",
        "LEARNING_RATE = 0.5"
      ],
      "execution_count": 1,
      "outputs": [
        {
          "output_type": "stream",
          "text": [
            "TensorFlow 1.x selected.\n"
          ],
          "name": "stdout"
        }
      ]
    },
    {
      "cell_type": "code",
      "metadata": {
        "id": "TndRNt-3XTF6",
        "colab_type": "code",
        "colab": {
          "base_uri": "https://localhost:8080/",
          "height": 84
        },
        "outputId": "40d23d5f-b3b7-4b2e-e03f-27330914bc22"
      },
      "source": [
        "data = input_data.read_data_sets(DATA_DIR, one_hot=True)\n",
        "x = tf.placeholder (tf. float32 , [None, 784])\n",
        "W = tf.Variable(tf.zeros([784, 10]))\n",
        "b = tf.Variable(tf.zeros([10]), dtype =tf.float32)\n",
        "y_true = tf.placeholder(tf.float32, [None, 10])\n",
        "\n",
        "#y_pred = tf.matmul(x, W) + b\n",
        "\n",
        "f = tf.matmul(x, W) + b\n",
        "y_pred = 1/(1+tf.exp(f))\n",
        "\n",
        "cross_entropy = tf.reduce_mean(tf.nn.softmax_cross_entropy_with_logits(\n",
        "                              logits=y_pred, labels=y_true))\n",
        "gd_step = tf.train.GradientDescentOptimizer(LEARNING_RATE).minimize(cross_entropy)\n",
        "correct_mask = tf.equal(tf.argmax(y_pred, 1), tf.argmax(y_true, 1))\n",
        "accuracy = tf.reduce_mean(tf.cast(correct_mask, tf.float32))"
      ],
      "execution_count": 5,
      "outputs": [
        {
          "output_type": "stream",
          "text": [
            "Extracting tmp/data/train-images-idx3-ubyte.gz\n",
            "Extracting tmp/data/train-labels-idx1-ubyte.gz\n",
            "Extracting tmp/data/t10k-images-idx3-ubyte.gz\n",
            "Extracting tmp/data/t10k-labels-idx1-ubyte.gz\n"
          ],
          "name": "stdout"
        }
      ]
    },
    {
      "cell_type": "code",
      "metadata": {
        "id": "zIqlYnrcZgYO",
        "colab_type": "code",
        "outputId": "01fa993f-c6ad-4329-b3fe-a235521ee463",
        "colab": {
          "base_uri": "https://localhost:8080/",
          "height": 34
        }
      },
      "source": [
        "with tf.Session() as sess:\n",
        "    # Train\n",
        "    sess.run(tf.global_variables_initializer())\n",
        "    for i in range ( NUM_STEPS ):\n",
        "        batch_x , batch_y = data.train.next_batch(MINIBATCH_SIZE)\n",
        "        sess.run(gd_step, feed_dict ={ x : batch_x , y_true : batch_y })\n",
        "    ans = sess.run(accuracy, feed_dict={x : data.test.images, \n",
        "                                        y_true:data.test.labels})\n",
        "\n",
        "print (\"Accuracy : {:.4}% \". format ( ans *100))"
      ],
      "execution_count": 6,
      "outputs": [
        {
          "output_type": "stream",
          "text": [
            "Accuracy : 88.84% \n"
          ],
          "name": "stdout"
        }
      ]
    },
    {
      "cell_type": "code",
      "metadata": {
        "id": "yEboTFWwaN12",
        "colab_type": "code",
        "colab": {}
      },
      "source": [
        ""
      ],
      "execution_count": 0,
      "outputs": []
    },
    {
      "cell_type": "markdown",
      "metadata": {
        "id": "mhCj7QS8gMiA",
        "colab_type": "text"
      },
      "source": [
        "Нейронная сеть"
      ]
    },
    {
      "cell_type": "code",
      "metadata": {
        "id": "ppoRM9YOgMqm",
        "colab_type": "code",
        "outputId": "362b613b-bd39-4878-ef70-2db6422327d2",
        "colab": {
          "base_uri": "https://localhost:8080/",
          "height": 101
        }
      },
      "source": [
        "import tensorflow as tf\n",
        "from tensorflow.examples.tutorials.mnist import input_data\n",
        "DATA_DIR = 'tmp/data'\n",
        "NUM_STEPS = 1000\n",
        "MINIBATCH_SIZE = 100\n",
        "LEARNING_RATE = 0.5\n",
        "# layers sizes\n",
        "L1 = 200\n",
        "L2 = 100\n",
        "L3 = 60\n",
        "L4 = 30\n",
        "L5 = 10\n",
        "data = input_data.read_data_sets(DATA_DIR, one_hot = True)\n",
        "\n",
        "x = tf.placeholder(tf.float32, [None, 784])\n",
        "l1 = tf.layers.dense(x, L1, activation=tf.nn.relu, use_bias=True)\n",
        "l2 = tf.layers.dense(l1, L2, activation=tf.nn.relu, use_bias=True )\n",
        "l3 = tf.layers.dense(l2, L3, activation=tf.nn.relu, use_bias=True )\n",
        "l4 = tf.layers.dense(l3, L4, activation=tf.nn.relu, use_bias=True )\n",
        "\n",
        "y_pred = tf.layers.dense(l4, L5, activation=tf.nn.relu, use_bias=True)\n",
        "y_true = tf.placeholder(tf.float32 , [None, 10])\n",
        "cross_entropy = tf.reduce_mean(tf.nn.softmax_cross_entropy_with_logits(\n",
        "                               logits=y_pred, labels=y_true ))\n",
        "gd_step = tf.train.GradientDescentOptimizer(LEARNING_RATE).minimize(cross_entropy)\n",
        "correct_mask = tf.equal(tf.argmax(y_pred, 1), tf.argmax(y_true, 1))\n",
        "accuracy = tf.reduce_mean(tf.cast(correct_mask, tf.float32))\n",
        "with tf. Session () as sess :\n",
        "    # Train\n",
        "    sess.run(tf.global_variables_initializer())\n",
        "    for i in range ( NUM_STEPS ): \n",
        "        batch_x , batch_y = data . train . next_batch ( MINIBATCH_SIZE )\n",
        "        sess.run(gd_step, feed_dict={x : batch_x, y_true:batch_y})\n",
        "    ans = sess.run(accuracy, feed_dict ={x:data.test.images,\n",
        "                      y_true:data.test.labels})\n",
        "    \n",
        "print (\" Accuracy : {:.4}% \". format ( ans *100))\n",
        "\n"
      ],
      "execution_count": 10,
      "outputs": [
        {
          "output_type": "stream",
          "text": [
            "Extracting tmp/data/train-images-idx3-ubyte.gz\n",
            "Extracting tmp/data/train-labels-idx1-ubyte.gz\n",
            "Extracting tmp/data/t10k-images-idx3-ubyte.gz\n",
            "Extracting tmp/data/t10k-labels-idx1-ubyte.gz\n",
            " Accuracy : 87.21% \n"
          ],
          "name": "stdout"
        }
      ]
    },
    {
      "cell_type": "code",
      "metadata": {
        "colab_type": "code",
        "outputId": "8e2bf5f7-4bba-4d76-f2e8-e2d81e60f3db",
        "id": "l9v5JiTolx27",
        "colab": {
          "base_uri": "https://localhost:8080/",
          "height": 84
        }
      },
      "source": [
        "data = input_data.read_data_sets(DATA_DIR, one_hot = True)\n"
      ],
      "execution_count": 0,
      "outputs": [
        {
          "output_type": "stream",
          "text": [
            "Extracting tmp/data/train-images-idx3-ubyte.gz\n",
            "Extracting tmp/data/train-labels-idx1-ubyte.gz\n",
            "Extracting tmp/data/t10k-images-idx3-ubyte.gz\n",
            "Extracting tmp/data/t10k-labels-idx1-ubyte.gz\n"
          ],
          "name": "stdout"
        }
      ]
    },
    {
      "cell_type": "code",
      "metadata": {
        "colab_type": "code",
        "id": "uPLSNQbqlx2p",
        "colab": {}
      },
      "source": [
        "x = tf.placeholder(tf.float32, [None, 784])\n",
        "l1 = tf.layers.dense(x, L1, activation=tf.nn.relu, use_bias=True)\n",
        "l2 = tf.layers.dense(l1, L2, activation=tf.nn.relu, use_bias=True )\n",
        "l3 = tf.layers.dense(l2, L3, activation=tf.nn.relu, use_bias=True )\n",
        "l4 = tf.layers.dense(l3, L4, activation=tf.nn.relu, use_bias=True )\n",
        "\n",
        "y_pred = tf.layers.dense(l4, L5, activation=tf.nn.relu, use_bias=True)\n",
        "y_true = tf.placeholder(tf.float32 , [None, 10])\n",
        "cross_entropy = tf.reduce_mean(tf.nn.softmax_cross_entropy_with_logits(\n",
        "                               logits=y_pred, labels=y_true ))\n",
        "gd_step = tf.train.GradientDescentOptimizer(LEARNING_RATE).minimize(cross_entropy)\n",
        "correct_mask = tf.equal(tf.argmax(y_pred, 1), tf.argmax(y_true, 1))\n",
        "accuracy = tf.reduce_mean(tf.cast(correct_mask, tf.float32))"
      ],
      "execution_count": 0,
      "outputs": []
    },
    {
      "cell_type": "code",
      "metadata": {
        "colab_type": "code",
        "outputId": "9f13bd11-0c18-44f7-8b01-ab4303d0dc72",
        "id": "_IE0UDTglx2f",
        "colab": {
          "base_uri": "https://localhost:8080/",
          "height": 34
        }
      },
      "source": [
        "with tf. Session () as sess :\n",
        "    # Train\n",
        "    sess.run(tf.global_variables_initializer())\n",
        "    for i in range ( NUM_STEPS ): \n",
        "        batch_x , batch_y = data . train . next_batch ( MINIBATCH_SIZE )\n",
        "        sess.run(gd_step, feed_dict={x : batch_x, y_true:batch_y})\n",
        "    ans = sess.run(accuracy, feed_dict ={x:data.test.images,\n",
        "                      y_true:data.test.labels})\n",
        "    \n",
        "print (\" Accuracy : {:.4}% \". format ( ans *100))\n"
      ],
      "execution_count": 0,
      "outputs": [
        {
          "output_type": "stream",
          "text": [
            " Accuracy : 94.94% \n"
          ],
          "name": "stdout"
        }
      ]
    },
    {
      "cell_type": "code",
      "metadata": {
        "colab_type": "code",
        "id": "dD8R20O-lx2P",
        "colab": {}
      },
      "source": [
        ""
      ],
      "execution_count": 0,
      "outputs": []
    }
  ]
}